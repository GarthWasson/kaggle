{
 "cells": [
  {
   "cell_type": "code",
   "execution_count": 1,
   "metadata": {
    "collapsed": true
   },
   "outputs": [],
   "source": [
    "import numpy as Math\n",
    "import pylab as Plot"
   ]
  },
  {
   "cell_type": "code",
   "execution_count": 2,
   "metadata": {
    "collapsed": true
   },
   "outputs": [],
   "source": [
    "def Hbeta(D = Math.array([]), beta = 1.0):\n",
    "        \"\"\"Compute the perplexity and the P-row for a specific value of the precision of a Gaussian distribution.\"\"\"\n",
    "\n",
    "        # Compute P-row and corresponding perplexity\n",
    "        P = Math.exp(-D.copy() * beta);\n",
    "        sumP = sum(P);\n",
    "        H = Math.log(sumP) + beta * Math.sum(D * P) / sumP;\n",
    "        P = P / sumP;\n",
    "        return H, P;\n",
    "\n",
    "def x2p(X = Math.array([]), tol = 1e-5, perplexity = 30.0):\n",
    "        \"\"\"Performs a binary search to get P-values in such a way that each conditional Gaussian has the same perplexity.\"\"\"\n",
    "\n",
    "        # Initialize some variables\n",
    "        print \"Computing pairwise distances...\"\n",
    "        (n, d) = X.shape;\n",
    "        sum_X = Math.sum(Math.square(X), 1);\n",
    "        D = Math.add(Math.add(-2 * Math.dot(X, X.T), sum_X).T, sum_X);\n",
    "        P = Math.zeros((n, n));\n",
    "        beta = Math.ones((n, 1));\n",
    "        logU = Math.log(perplexity);\n",
    "\n",
    "        # Loop over all datapoints\n",
    "        for i in range(n):\n",
    "\n",
    "                # Print progress\n",
    "                if i % 500 == 0:\n",
    "                        print \"Computing P-values for point \", i, \" of \", n, \"...\"\n",
    "\n",
    "                # Compute the Gaussian kernel and entropy for the current precision\n",
    "                betamin = -Math.inf;\n",
    "                betamax =  Math.inf;\n",
    "                Di = D[i, Math.concatenate((Math.r_[0:i], Math.r_[i+1:n]))];\n",
    "                (H, thisP) = Hbeta(Di, beta[i]);\n",
    "\n",
    "                # Evaluate whether the perplexity is within tolerance\n",
    "                Hdiff = H - logU;\n",
    "                tries = 0;\n",
    "                while Math.abs(Hdiff) > tol and tries < 50:\n",
    "                        # If not, increase or decrease precision\n",
    "                        if Hdiff > 0:\n",
    "                                betamin = beta[i].copy();\n",
    "                                if betamax == Math.inf or betamax == -Math.inf:\n",
    "                                        beta[i] = beta[i] * 2;\n",
    "                                else:\n",
    "                                        beta[i] = (beta[i] + betamax) / 2;\n",
    "                        else:\n",
    "                                betamax = beta[i].copy();\n",
    "                                if betamin == Math.inf or betamin == -Math.inf:\n",
    "                                        beta[i] = beta[i] / 2;\n",
    "                                else:\n",
    "                                        beta[i] = (beta[i] + betamin) / 2;\n",
    "\n",
    "                        # Recompute the values\n",
    "                        (H, thisP) = Hbeta(Di, beta[i]);\n",
    "                        Hdiff = H - logU;\n",
    "                        tries = tries + 1;\n",
    "\n",
    "                # Set the final row of P\n",
    "                P[i, Math.concatenate((Math.r_[0:i], Math.r_[i+1:n]))] = thisP;\n",
    "\n",
    "        # Return final P-matrix\n",
    "        print \"Mean value of sigma: \", Math.mean(Math.sqrt(1 / beta));\n",
    "        return P;\n",
    "\n",
    "def pca(X = Math.array([]), no_dims = 50):\n",
    "        \"\"\"Runs PCA on the NxD array X in order to reduce its dimensionality to no_dims dimensions.\"\"\"\n",
    "\n",
    "        print \"Preprocessing the data using PCA...\"\n",
    "        (n, d) = X.shape;\n",
    "        X = X - Math.tile(Math.mean(X, 0), (n, 1));\n",
    "        (l, M) = Math.linalg.eig(Math.dot(X.T, X));\n",
    "        Y = Math.dot(X, M[:,0:no_dims]);\n",
    "        return Y;\n",
    "\n",
    "def tsne(X = Math.array([]), no_dims = 2, initial_dims = 50, perplexity = 30.0):\n",
    "        \"\"\"Runs t-SNE on the dataset in the NxD array X to reduce its dimensionality to no_dims dimensions.\n",
    "        The syntaxis of the function is Y = tsne.tsne(X, no_dims, perplexity), where X is an NxD NumPy array.\"\"\"\n",
    "\n",
    "        # Check inputs\n",
    "        if isinstance(no_dims, float):\n",
    "                print \"Error: array X should have type float.\";\n",
    "                return -1;\n",
    "        if round(no_dims) != no_dims:\n",
    "                print \"Error: number of dimensions should be an integer.\";\n",
    "                return -1;\n",
    "\n",
    "        # Initialize variables\n",
    "        X = pca(X, initial_dims).real;\n",
    "        (n, d) = X.shape;\n",
    "        #max_iter = 1000;\n",
    "        max_iter = 200;\n",
    "        initial_momentum = 0.5;\n",
    "        final_momentum = 0.8;\n",
    "        eta = 500;\n",
    "        min_gain = 0.01;\n",
    "        Y = Math.random.randn(n, no_dims);\n",
    "        dY = Math.zeros((n, no_dims));\n",
    "        iY = Math.zeros((n, no_dims));\n",
    "        gains = Math.ones((n, no_dims));\n",
    "\n",
    "        # Compute P-values\n",
    "        P = x2p(X, 1e-5, perplexity);\n",
    "        P = P + Math.transpose(P);\n",
    "        P = P / Math.sum(P);\n",
    "        P = P * 4;                                                                      # early exaggeration\n",
    "        P = Math.maximum(P, 1e-12);\n",
    "\n",
    "        # Run iterations\n",
    "        for iter in range(max_iter):\n",
    "\n",
    "                # Compute pairwise affinities\n",
    "                sum_Y = Math.sum(Math.square(Y), 1);\n",
    "                num = 1 / (1 + Math.add(Math.add(-2 * Math.dot(Y, Y.T), sum_Y).T, sum_Y));\n",
    "                num[range(n), range(n)] = 0;\n",
    "                Q = num / Math.sum(num);\n",
    "                Q = Math.maximum(Q, 1e-12);\n",
    "\n",
    "                # Compute gradient\n",
    "                PQ = P - Q;\n",
    "                for i in range(n):\n",
    "                        dY[i,:] = Math.sum(Math.tile(PQ[:,i] * num[:,i], (no_dims, 1)).T * (Y[i,:] - Y), 0);\n",
    "\n",
    "                # Perform the update\n",
    "                if iter < 20:\n",
    "                        momentum = initial_momentum\n",
    "                else:\n",
    "                        momentum = final_momentum\n",
    "                gains = (gains + 0.2) * ((dY > 0) != (iY > 0)) + (gains * 0.8) * ((dY > 0) == (iY > 0));\n",
    "                gains[gains < min_gain] = min_gain;\n",
    "                iY = momentum * iY - eta * (gains * dY);\n",
    "                Y = Y + iY;\n",
    "                Y = Y - Math.tile(Math.mean(Y, 0), (n, 1));\n",
    "\n",
    "                # Compute current value of cost function\n",
    "                if (iter + 1) % 10 == 0:\n",
    "                        C = Math.sum(P * Math.log(P / Q));\n",
    "                        print \"Iteration \", (iter + 1), \": error is \", C\n",
    "\n",
    "                # Stop lying about P-values\n",
    "                if iter == 100:\n",
    "                        P = P / 4;\n",
    "\n",
    "        # Return solution\n",
    "        return Y;\n",
    "\n"
   ]
  },
  {
   "cell_type": "code",
   "execution_count": 3,
   "metadata": {
    "collapsed": false
   },
   "outputs": [],
   "source": [
    "X =      Math.loadtxt(\"/home/garth/tSNE/tsne_python/numera_data2000.csv\", delimiter=',')\n",
    "labels = Math.loadtxt(\"/home/garth/tSNE/tsne_python/label2000.csv\", delimiter=',');"
   ]
  },
  {
   "cell_type": "code",
   "execution_count": null,
   "metadata": {
    "collapsed": true
   },
   "outputs": [],
   "source": [
    "Y = tsne(X, 2, 21, 20.0);"
   ]
  },
  {
   "cell_type": "code",
   "execution_count": null,
   "metadata": {
    "collapsed": false
   },
   "outputs": [],
   "source": [
    "Plot.scatter(Y[:,0], Y[:,1],100,labels);\n",
    "Plot.show();"
   ]
  },
  {
   "cell_type": "code",
   "execution_count": 4,
   "metadata": {
    "collapsed": false
   },
   "outputs": [
    {
     "name": "stdout",
     "output_type": "stream",
     "text": [
      "Preprocessing the data using PCA...\n",
      "Computing pairwise distances...\n",
      "Computing P-values for point  0  of  2000 ...\n",
      "Computing P-values for point  500  of  2000 ...\n",
      "Computing P-values for point  1000  of  2000 ...\n",
      "Computing P-values for point  1500  of  2000 ...\n",
      "Mean value of sigma:  0.351372573145\n",
      "Iteration  10 : error is  22.4878901475\n",
      "Iteration  20 : error is  20.4384548378\n",
      "Iteration  30 : error is  19.3011525789\n",
      "Iteration  40 : error is  19.322906626\n",
      "Iteration  50 : error is  19.542129143\n",
      "Iteration  60 : error is  19.4692919042\n",
      "Iteration  70 : error is  19.4532911259\n",
      "Iteration  80 : error is  19.4630056175\n",
      "Iteration  90 : error is  19.4626416021\n",
      "Iteration  100 : error is  19.4625063397\n",
      "Iteration  110 : error is  2.88566272546\n",
      "Iteration  120 : error is  2.3639647585\n",
      "Iteration  130 : error is  2.12636952356\n",
      "Iteration  140 : error is  1.98582921921\n",
      "Iteration  150 : error is  1.89230567249\n",
      "Iteration  160 : error is  1.82521990837\n",
      "Iteration  170 : error is  1.77545012588\n",
      "Iteration  180 : error is  1.73709397684\n",
      "Iteration  190 : error is  1.7065953654\n",
      "Iteration  200 : error is  1.68190679469\n"
     ]
    }
   ],
   "source": [
    "Y3 = tsne(X, 3, 21, 20.0);"
   ]
  },
  {
   "cell_type": "code",
   "execution_count": null,
   "metadata": {
    "collapsed": false
   },
   "outputs": [],
   "source": [
    "Y3.view()"
   ]
  },
  {
   "cell_type": "code",
   "execution_count": 6,
   "metadata": {
    "collapsed": false
   },
   "outputs": [],
   "source": [
    "import numpy as np\n",
    "from mpl_toolkits.mplot3d import Axes3D\n",
    "import matplotlib.pyplot as plt\n",
    "\n",
    "\n",
    "fig = plt.figure()\n",
    "ax = fig.add_subplot(111, projection='3d')\n",
    "n = 100\n",
    "#for c, m, zl, zh in [('r', 'o', -50, -25), ('b', '^', -30, -5)]:\n",
    "for c in labels.tolist():\n",
    "    xs= Y3[:,0]\n",
    "    ys=Y3[:,1]\n",
    "    zs=Y3[:,2]\n",
    "    ax.scatter(xs, ys, zs, c='r', marker='o')\n",
    "\n",
    "ax.set_xlabel('X Label')\n",
    "ax.set_ylabel('Y Label')\n",
    "ax.set_zlabel('Z Label')\n",
    "\n",
    "plt.show()"
   ]
  },
  {
   "cell_type": "code",
   "execution_count": null,
   "metadata": {
    "collapsed": true
   },
   "outputs": [],
   "source": [
    "def randrange(n, vmin, vmax):\n",
    "    return (vmax - vmin)*np.random.rand(n) + vmin\n",
    "\n",
    "fig = plt.figure()\n",
    "ax = fig.add_subplot(111, projection='3d')\n",
    "n = 100\n",
    "for c, m, zl, zh in [('r', 'o', -50, -25), ('b', '^', -30, -5)]:\n",
    "    xs = randrange(n, 23, 32)\n",
    "    ys = randrange(n, 0, 100)\n",
    "    zs = randrange(n, zl, zh)\n",
    "    ax.scatter(xs, ys, zs, c=c, marker=m)\n",
    "\n",
    "ax.set_xlabel('X Label')\n",
    "ax.set_ylabel('Y Label')\n",
    "ax.set_zlabel('Z Label')\n",
    "\n",
    "plt.show()"
   ]
  },
  {
   "cell_type": "code",
   "execution_count": null,
   "metadata": {
    "collapsed": false
   },
   "outputs": [],
   "source": []
  },
  {
   "cell_type": "code",
   "execution_count": null,
   "metadata": {
    "collapsed": true
   },
   "outputs": [],
   "source": []
  }
 ],
 "metadata": {
  "kernelspec": {
   "display_name": "Python [Root]",
   "language": "python",
   "name": "Python [Root]"
  },
  "language_info": {
   "codemirror_mode": {
    "name": "ipython",
    "version": 2
   },
   "file_extension": ".py",
   "mimetype": "text/x-python",
   "name": "python",
   "nbconvert_exporter": "python",
   "pygments_lexer": "ipython2",
   "version": "2.7.12"
  }
 },
 "nbformat": 4,
 "nbformat_minor": 0
}
