{
 "cells": [
  {
   "cell_type": "code",
   "execution_count": 1,
   "metadata": {
    "collapsed": true
   },
   "outputs": [],
   "source": [
    "import numpy as np\n",
    "from sklearn.manifold import TSNE"
   ]
  },
  {
   "cell_type": "code",
   "execution_count": 2,
   "metadata": {
    "collapsed": true
   },
   "outputs": [],
   "source": [
    "from mpl_toolkits.mplot3d import Axes3D\n",
    "import matplotlib.pyplot as plt"
   ]
  },
  {
   "cell_type": "code",
   "execution_count": null,
   "metadata": {
    "collapsed": false
   },
   "outputs": [],
   "source": [
    "X =      np.loadtxt(\"/home/garth/tSNE/tsne_python/numera_data2000.csv\", delimiter=',')\n",
    "X_tourn =      np.loadtxt(\"/home/garth/tSNE/tsne_python/numera_data2000.csv\", delimiter=',')\n",
    "labels = np.loadtxt(\"/home/garth/tSNE/tsne_python/label2000.csv\", delimiter=',');"
   ]
  },
  {
   "cell_type": "code",
   "execution_count": 3,
   "metadata": {
    "collapsed": true
   },
   "outputs": [],
   "source": [
    "X =      np.loadtxt(\"/home/garth/tSNE/tsne_python/numera_data.csv\", delimiter=',')\n",
    "X_tourn =      np.loadtxt(\"/home/garth/tSNE/tsne_python/numera_data.csv\", delimiter=',')\n",
    "labels = np.loadtxt(\"/home/garth/tSNE/tsne_python/label2000.csv\", delimiter=',');"
   ]
  },
  {
   "cell_type": "code",
   "execution_count": 21,
   "metadata": {
    "collapsed": false
   },
   "outputs": [],
   "source": [
    "all_data=np.concatenate((X,X_tourn), axis=0)"
   ]
  },
  {
   "cell_type": "code",
   "execution_count": 23,
   "metadata": {
    "collapsed": false
   },
   "outputs": [
    {
     "name": "stdout",
     "output_type": "stream",
     "text": [
      "<type 'numpy.ndarray'>\n",
      "21\n",
      "21\n",
      "19998\n"
     ]
    }
   ],
   "source": [
    "all_data.view()\n",
    "print type(all_data)\n",
    "print len(X_tourn[0])\n",
    "print len(X[0])\n",
    "\n",
    "print len(all_data)"
   ]
  },
  {
   "cell_type": "code",
   "execution_count": null,
   "metadata": {
    "collapsed": false
   },
   "outputs": [],
   "source": [
    "#X2=X[:100]\n",
    "#labels2=labels[:100]\n",
    "X2=X[:500]\n",
    "labels2=labels[:500]"
   ]
  },
  {
   "cell_type": "code",
   "execution_count": null,
   "metadata": {
    "collapsed": false
   },
   "outputs": [],
   "source": [
    "model = TSNE(n_components=3, random_state=0)\n",
    "np.set_printoptions(suppress=True)\n",
    "Y=model.fit_transform(X2) "
   ]
  },
  {
   "cell_type": "code",
   "execution_count": null,
   "metadata": {
    "collapsed": false
   },
   "outputs": [],
   "source": [
    "X.view()"
   ]
  },
  {
   "cell_type": "code",
   "execution_count": null,
   "metadata": {
    "collapsed": true
   },
   "outputs": [],
   "source": []
  },
  {
   "cell_type": "code",
   "execution_count": null,
   "metadata": {
    "collapsed": false
   },
   "outputs": [],
   "source": [
    "print labels2\n",
    "print type(labels2[0])"
   ]
  },
  {
   "cell_type": "code",
   "execution_count": null,
   "metadata": {
    "collapsed": false
   },
   "outputs": [],
   "source": [
    "fig = plt.figure()\n",
    "ax = fig.add_subplot(111, projection='3d')\n",
    "\n",
    "xs=[]\n",
    "ys=[]\n",
    "zs=[]\n",
    "for c,i in zip(labels2,range(0,500)):\n",
    "    if c==1:\n",
    "        xs.append(int(Y[i][0]))\n",
    "        ys.append(int(Y[i][1]))\n",
    "        zs.append(int(Y[i][2]))\n",
    "print len(xs)\n",
    "ax.scatter(xs,ys,zs, c='r', marker='o')\n",
    "\n",
    "x2s=[]   \n",
    "y2s=[]\n",
    "z2s=[]\n",
    "for c,i in zip(labels,range(0,500)):\n",
    "    if c==0:\n",
    "        x2s.append(int(Y[i,0]))\n",
    "        y2s.append(int(Y[i,1]))\n",
    "        z2s.append(int(Y[i,2]))\n",
    "ax.scatter(x2s,y2s,z2s, c='b', marker='1')\n",
    "\n",
    "print len(x2s)\n",
    "\n",
    "ax.set_xlabel('X Label')\n",
    "ax.set_ylabel('Y Label')\n",
    "ax.set_zlabel('Z Label')\n",
    "\n",
    "plt.show()"
   ]
  },
  {
   "cell_type": "code",
   "execution_count": null,
   "metadata": {
    "collapsed": false
   },
   "outputs": [],
   "source": [
    "\n",
    "print max(xs)\n",
    "print max(ys)\n",
    "print max(zs)\n",
    "\n",
    "print min(xs)\n",
    "print min(ys)\n",
    "print min(zs)\n",
    "\n",
    "print \"---------------\"\n",
    "\n",
    "print max(x2s)\n",
    "print max(y2s)\n",
    "print max(z2s)\n",
    "\n",
    "print min(x2s)\n",
    "print min(y2s)\n",
    "print min(z2s)"
   ]
  },
  {
   "cell_type": "code",
   "execution_count": null,
   "metadata": {
    "collapsed": false
   },
   "outputs": [],
   "source": [
    "print sum(labels[:500])"
   ]
  },
  {
   "cell_type": "code",
   "execution_count": null,
   "metadata": {
    "collapsed": true
   },
   "outputs": [],
   "source": [
    "np.savetxt(\"lol\",Y, delimiter=',')"
   ]
  },
  {
   "cell_type": "code",
   "execution_count": null,
   "metadata": {
    "collapsed": true
   },
   "outputs": [],
   "source": []
  }
 ],
 "metadata": {
  "kernelspec": {
   "display_name": "Python [Root]",
   "language": "python",
   "name": "Python [Root]"
  },
  "language_info": {
   "codemirror_mode": {
    "name": "ipython",
    "version": 2
   },
   "file_extension": ".py",
   "mimetype": "text/x-python",
   "name": "python",
   "nbconvert_exporter": "python",
   "pygments_lexer": "ipython2",
   "version": "2.7.12"
  }
 },
 "nbformat": 4,
 "nbformat_minor": 0
}
